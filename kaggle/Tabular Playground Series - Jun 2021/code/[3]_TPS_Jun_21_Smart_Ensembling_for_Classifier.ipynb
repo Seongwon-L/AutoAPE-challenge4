{
  "cells": [
    {
      "cell_type": "code",
      "execution_count": null,
      "metadata": {
        "id": "f38A0l7BY1xe"
      },
      "outputs": [],
      "source": [
        "import numpy as np\n",
        "import pandas as pd\n",
        "import seaborn as sns\n",
        "\n",
        "import matplotlib.pyplot as plt\n",
        "%matplotlib inline"
      ]
    },
    {
      "cell_type": "code",
      "execution_count": null,
      "metadata": {
        "id": "8Wtgm4TDZDv_"
      },
      "outputs": [],
      "source": [
        "!unzip -q /content/drive/MyDrive/tabular-playground-series-jun-2021.zip"
      ]
    },
    {
      "cell_type": "code",
      "execution_count": null,
      "metadata": {
        "id": "8YvvhHVtZF6e"
      },
      "outputs": [],
      "source": [
        "df1 = pd.read_csv('/content/train.csv')\n",
        "df2 = pd.read_csv('/content/test.csv')\n",
        "sam = pd.read_csv('/content/sample_submission.csv')"
      ]
    },
    {
      "cell_type": "code",
      "execution_count": null,
      "metadata": {
        "id": "XAu_aNX3aqIq"
      },
      "outputs": [],
      "source": [
        "sub1 = pd.read_csv('/content/drive/MyDrive/Tabular Playground Series - Jun 2021/26-tps06-keras-tuner.csv')\n",
        "sub2 = pd.read_csv('/content/drive/MyDrive/Tabular Playground Series - Jun 2021/lightautoml_2lvl_8hours_with_nn_oofs.csv')\n"
      ]
    },
    {
      "cell_type": "code",
      "execution_count": null,
      "metadata": {
        "colab": {
          "background_save": true,
          "base_uri": "https://localhost:8080/",
          "height": 386
        },
        "id": "aysO5Cr_a2MC",
        "outputId": "32206a74-e1d3-48be-c2b3-003c40f6c28d"
      },
      "outputs": [
        {
          "name": "stdout",
          "output_type": "stream",
          "text": [
            "[0.0586983  0.41532499 0.15385914 0.02613389 0.0120671  0.14780807\n",
            " 0.02164085 0.04739936 0.11706831]\n"
          ]
        }
      ],
      "source": [
        "def generation(main, support, coeff):\n",
        "    sub1  = support.copy()\n",
        "    sub1v = sub1.values\n",
        "\n",
        "    sub2  = main.copy()\n",
        "    sub2v = sub2.values\n",
        "\n",
        "    imp  = main.copy()\n",
        "    impv = imp.values\n",
        "    NCLASS = 9\n",
        "    number = 0\n",
        "\n",
        "    for i in range (len(main)):\n",
        "\n",
        "        row1 = sub1v[i,1:]\n",
        "        row2 = sub2v[i,1:]\n",
        "        row1_sort = np.sort(row1)\n",
        "        row2_sort = np.sort(row2)\n",
        "\n",
        "        row = (row2 * coeff) + (row1 * (1.0 - coeff))\n",
        "        row_sort = np.sort(row)\n",
        "\n",
        "        for j in range (NCLASS):\n",
        "            if ((row2[j] == row2_sort[8]) and (row1[j] != row1_sort[8])):\n",
        "                row = row2\n",
        "                number = number + 1\n",
        "#               print(number, i)\n",
        "\n",
        "        impv[i, 1:] = row\n",
        "\n",
        "    imp.iloc[:, 1:] = impv[:, 1:]\n",
        "    print(f'Number of rows unchanged: {number}')\n",
        "    print(30 * '=')\n",
        "    return imp\n",
        "sub = generation(sub2, sub1, 0.3)\n",
        "\n",
        "sub_ens = sub"
      ]
    },
    {
      "cell_type": "code",
      "execution_count": null,
      "metadata": {
        "colab": {
          "base_uri": "https://localhost:8080/",
          "height": 17
        },
        "id": "WhG1cadWa4tf",
        "outputId": "9b8a9635-c951-4162-af2f-d5d3fd1eeac0"
      },
      "outputs": [
        {
          "data": {
            "application/javascript": [
              "\n",
              "    async function download(id, filename, size) {\n",
              "      if (!google.colab.kernel.accessAllowed) {\n",
              "        return;\n",
              "      }\n",
              "      const div = document.createElement('div');\n",
              "      const label = document.createElement('label');\n",
              "      label.textContent = `Downloading \"${filename}\": `;\n",
              "      div.appendChild(label);\n",
              "      const progress = document.createElement('progress');\n",
              "      progress.max = size;\n",
              "      div.appendChild(progress);\n",
              "      document.body.appendChild(div);\n",
              "\n",
              "      const buffers = [];\n",
              "      let downloaded = 0;\n",
              "\n",
              "      const channel = await google.colab.kernel.comms.open(id);\n",
              "      // Send a message to notify the kernel that we're ready.\n",
              "      channel.send({})\n",
              "\n",
              "      for await (const message of channel.messages) {\n",
              "        // Send a message to notify the kernel that we're ready.\n",
              "        channel.send({})\n",
              "        if (message.buffers) {\n",
              "          for (const buffer of message.buffers) {\n",
              "            buffers.push(buffer);\n",
              "            downloaded += buffer.byteLength;\n",
              "            progress.value = downloaded;\n",
              "          }\n",
              "        }\n",
              "      }\n",
              "      const blob = new Blob(buffers, {type: 'application/binary'});\n",
              "      const a = document.createElement('a');\n",
              "      a.href = window.URL.createObjectURL(blob);\n",
              "      a.download = filename;\n",
              "      div.appendChild(a);\n",
              "      a.click();\n",
              "      div.remove();\n",
              "    }\n",
              "  "
            ],
            "text/plain": [
              "<IPython.core.display.Javascript object>"
            ]
          },
          "metadata": {},
          "output_type": "display_data"
        },
        {
          "data": {
            "application/javascript": [
              "download(\"download_71fa5822-a553-4431-97c2-313118aa1706\", \"submission_ens.csv\", 18634497)"
            ],
            "text/plain": [
              "<IPython.core.display.Javascript object>"
            ]
          },
          "metadata": {},
          "output_type": "display_data"
        }
      ],
      "source": [
        "sub_ens.to_csv(\"submission_ens.csv\",index=False)\n",
        "from google.colab import files\n",
        "files.download('/content/submission_ens.csv')"
      ]
    }
  ],
  "metadata": {
    "colab": {
      "provenance": []
    },
    "kernelspec": {
      "display_name": "Python 3",
      "name": "python3"
    },
    "language_info": {
      "name": "python"
    }
  },
  "nbformat": 4,
  "nbformat_minor": 0
}